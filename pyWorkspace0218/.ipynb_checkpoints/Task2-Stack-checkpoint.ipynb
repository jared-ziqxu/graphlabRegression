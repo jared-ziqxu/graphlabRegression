{
 "cells": [
  {
   "cell_type": "markdown",
   "metadata": {},
   "source": [
    "# Task2 Stack"
   ]
  },
  {
   "cell_type": "code",
   "execution_count": 25,
   "metadata": {
    "collapsed": true
   },
   "outputs": [],
   "source": [
    "class Stack:\n",
    "     def __init__(self):\n",
    "         self.items = []\n",
    "\n",
    "     def isEmpty(self):\n",
    "         return self.items == []\n",
    "\n",
    "     def push(self, item):\n",
    "         self.items.append(item)\n",
    "\n",
    "     def pop(self,item=None):\n",
    "         if not item:\n",
    "            return self.items.pop()\n",
    "         else:\n",
    "            return self.items.pop(item)\n",
    "        \n",
    "     def peek(self):\n",
    "         return self.items[len(self.items)-1]\n",
    "\n",
    "     def size(self):\n",
    "         return len(self.items)\n",
    "    \n",
    "     def show(self):\n",
    "         print self.items"
   ]
  },
  {
   "cell_type": "code",
   "execution_count": 34,
   "metadata": {
    "collapsed": false
   },
   "outputs": [
    {
     "name": "stdout",
     "output_type": "stream",
     "text": [
      "push 10000 items into a stack, required time is 0.004035950\n"
     ]
    }
   ],
   "source": [
    "import random\n",
    "import timeit\n",
    "import time\n",
    "\n",
    "\n",
    "mystack=Stack()\n",
    "length = 10000\n",
    "mylist = [random.randint(0,length) for r in xrange(length)]\n",
    "#print mylist\n",
    "\n",
    "start = time.time()\n",
    "for i in mylist:\n",
    "    mystack.push(i)\n",
    "end = time.time()\n",
    "    \n",
    "print ( \"push %d items into a stack, required time is %10.9f\" % (mystack.size(),end-start))\n"
   ]
  },
  {
   "cell_type": "code",
   "execution_count": 31,
   "metadata": {
    "collapsed": false
   },
   "outputs": [
    {
     "name": "stdout",
     "output_type": "stream",
     "text": [
      "pop 10000 items out of a stack, required time is 0.008130074\n"
     ]
    }
   ],
   "source": [
    "start = time.time()\n",
    "while mystack.size()>0:\n",
    "    mystack.pop()\n",
    "end = time.time()\n",
    "    \n",
    "print ( \"pop %d items out of a stack, required time is %10.9f\" % (length,end-start))"
   ]
  },
  {
   "cell_type": "code",
   "execution_count": 35,
   "metadata": {
    "collapsed": false
   },
   "outputs": [
    {
     "name": "stdout",
     "output_type": "stream",
     "text": [
      "pop 10000 items out of a stack, required time is 0.555125952\n"
     ]
    }
   ],
   "source": [
    "start = time.time()\n",
    "for i in mylist[::-1]:\n",
    "    mystack.popItem(i)\n",
    "end = time.time()\n",
    "    \n",
    "print ( \"pop %d items out of a stack, required time is %10.9f\" % (length,end-start))"
   ]
  },
  {
   "cell_type": "code",
   "execution_count": null,
   "metadata": {
    "collapsed": true
   },
   "outputs": [],
   "source": []
  }
 ],
 "metadata": {
  "kernelspec": {
   "display_name": "Python 2",
   "language": "python",
   "name": "python2"
  },
  "language_info": {
   "codemirror_mode": {
    "name": "ipython",
    "version": 2
   },
   "file_extension": ".py",
   "mimetype": "text/x-python",
   "name": "python",
   "nbconvert_exporter": "python",
   "pygments_lexer": "ipython2",
   "version": "2.7.11"
  }
 },
 "nbformat": 4,
 "nbformat_minor": 0
}

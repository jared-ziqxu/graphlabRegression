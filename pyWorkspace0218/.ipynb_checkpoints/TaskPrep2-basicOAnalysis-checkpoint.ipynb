{
 "cells": [
  {
   "cell_type": "code",
   "execution_count": 6,
   "metadata": {
    "collapsed": false
   },
   "outputs": [],
   "source": [
    "import time\n",
    "\n",
    "def sumOfN2(n):\n",
    "   start = time.time()\n",
    "\n",
    "   theSum = 0\n",
    "   for i in range(1,n+1):\n",
    "      theSum = theSum + i\n",
    "\n",
    "   end = time.time()\n",
    "\n",
    "   return theSum,end-start"
   ]
  },
  {
   "cell_type": "code",
   "execution_count": 17,
   "metadata": {
    "collapsed": false
   },
   "outputs": [
    {
     "name": "stdout",
     "output_type": "stream",
     "text": [
      "sum: 50005000 , required time 0.000955105 seconds\n",
      "sum: 50005000 , required time 0.001034021 seconds\n",
      "sum: 50005000 , required time 0.001042128 seconds\n",
      "sum: 50005000 , required time 0.001021147 seconds\n",
      "sum: 50005000 , required time 0.001052856 seconds\n"
     ]
    }
   ],
   "source": [
    "for i in range(5):\n",
    "    print (\"sum: %d , required time %10.9f seconds\" % sumOfN2(10000))"
   ]
  },
  {
   "cell_type": "code",
   "execution_count": 14,
   "metadata": {
    "collapsed": true
   },
   "outputs": [],
   "source": [
    "def sumOfN3(n):\n",
    "   start = time.time()\n",
    "   return (n*(n+1))/2,time.time()-start"
   ]
  },
  {
   "cell_type": "code",
   "execution_count": 16,
   "metadata": {
    "collapsed": false
   },
   "outputs": [
    {
     "name": "stdout",
     "output_type": "stream",
     "text": [
      "sum: 50005000 , required time 0.000000954 seconds\n",
      "sum: 50005000 , required time 0.000000954 seconds\n",
      "sum: 50005000 , required time 0.000001192 seconds\n",
      "sum: 50005000 , required time 0.000000000 seconds\n",
      "sum: 50005000 , required time 0.000000954 seconds\n"
     ]
    }
   ],
   "source": [
    "for i in range(5):\n",
    "    print (\"sum: %d , required time %10.9f seconds\" % sumOfN3(10000))"
   ]
  },
  {
   "cell_type": "code",
   "execution_count": 49,
   "metadata": {
    "collapsed": false
   },
   "outputs": [
    {
     "name": "stdout",
     "output_type": "stream",
     "text": [
      "minimum of the list is: 9, required time is 0.002492905\n"
     ]
    }
   ],
   "source": [
    "import random\n",
    "import timeit\n",
    "\n",
    "def min1(mlist):\n",
    "    start = time.time()\n",
    "    min1=mlist[0]\n",
    "    for i in mlist:\n",
    "        tmplist=[x for x in list1 if x!=i]\n",
    "        #print tmplist\n",
    "        for j in tmplist:\n",
    "            if j<i and j<min1:\n",
    "                min1=j\n",
    "        #print min1\n",
    "\n",
    "    return min1,time.time()-start\n",
    "\n",
    "def min2(mlist):\n",
    "    start = time.time()\n",
    "    min2=mlist[0]\n",
    "    for i in mlist:\n",
    "        if i< min2:\n",
    "            min2 = i\n",
    "    return min2,time.time()-start\n",
    "\n",
    "lenth = 100\n",
    "list1 = [random.randint(0,1000) for r in xrange(lenth)]\n",
    "#print list1\n",
    "\n",
    "print ( \"min1 of the list is: %d, required time is %10.9f\" % min1(list1))\n",
    "print ( \"min2 of the list is: %d, required time is %10.9f\" % min1(list1))\n",
    "                "
   ]
  },
  {
   "cell_type": "code",
   "execution_count": null,
   "metadata": {
    "collapsed": true
   },
   "outputs": [],
   "source": []
  }
 ],
 "metadata": {
  "kernelspec": {
   "display_name": "Python 2",
   "language": "python",
   "name": "python2"
  },
  "language_info": {
   "codemirror_mode": {
    "name": "ipython",
    "version": 2
   },
   "file_extension": ".py",
   "mimetype": "text/x-python",
   "name": "python",
   "nbconvert_exporter": "python",
   "pygments_lexer": "ipython2",
   "version": "2.7.11"
  }
 },
 "nbformat": 4,
 "nbformat_minor": 0
}

{
 "cells": [
  {
   "cell_type": "code",
   "execution_count": 2,
   "metadata": {
    "collapsed": true
   },
   "outputs": [],
   "source": [
    "class HashTable:\n",
    "    def __init__(self):\n",
    "        self.size = 11\n",
    "        self.slots = [None] * self.size\n",
    "        self.data = [None] * self.size\n",
    "        \n",
    "    def put(self,key,data):\n",
    "        hashvalue = self.hashfunction(key,len(self.slots))\n",
    "\n",
    "        if self.slots[hashvalue] == None:\n",
    "            self.slots[hashvalue] = key\n",
    "            self.data[hashvalue] = data\n",
    "        else:\n",
    "            if self.slots[hashvalue] == key:\n",
    "                self.data[hashvalue] = data  #replace\n",
    "            else:\n",
    "                nextslot = self.rehash(hashvalue,len(self.slots))\n",
    "                while self.slots[nextslot] != None and \\\n",
    "                      self.slots[nextslot] != key:\n",
    "                        nextslot = self.rehash(nextslot,len(self.slots))\n",
    "\n",
    "        if self.slots[nextslot] == None:\n",
    "            self.slots[nextslot]=key\n",
    "            self.data[nextslot]=data\n",
    "        else:\n",
    "            self.data[nextslot] = data #replace\n",
    "\n",
    "    def hashfunction(self,key,size):\n",
    "        return key%size\n",
    "\n",
    "    def rehash(self,oldhash,size):\n",
    "        return (oldhash+1)%size\n",
    "\n",
    "    def get(self,key):\n",
    "        startslot = self.hashfunction(key,len(self.slots))\n",
    "\n",
    "        data = None\n",
    "        stop = False\n",
    "        found = False\n",
    "        position = startslot\n",
    "        while self.slots[position] != None and  \\\n",
    "                       not found and not stop:\n",
    "            if self.slots[position] == key:\n",
    "                found = True\n",
    "                data = self.data[position]\n",
    "            else:\n",
    "                position=self.rehash(position,len(self.slots))\n",
    "                if position == startslot:\n",
    "                    stop = True\n",
    "        return data\n",
    "\n",
    "     def __getitem__(self,key):\n",
    "        return self.get(key)\n",
    "\n",
    "     def __setitem__(self,key,data):\n",
    "        self.put(key,data)"
   ]
  },
  {
   "cell_type": "code",
   "execution_count": 22,
   "metadata": {
    "collapsed": false
   },
   "outputs": [
    {
     "name": "stdout",
     "output_type": "stream",
     "text": [
      "[17, 20, 26, 31, 44, 54, 55, 77, 93]\n"
     ]
    }
   ],
   "source": [
    "def bubbleSort(alist):\n",
    "    print \"-----Bubble Sort-----\"\n",
    "    #print alist\n",
    "    for passnum in range(len(alist)-1, 0, -1):\n",
    "        print (\"passnum:%d\"%passnum)\n",
    "        #print alist\n",
    "        #print (\"--------------------\")\n",
    "        for i in range(passnum):\n",
    "            if alist[i]>alist[i+1]:\n",
    "                temp = alist[i]\n",
    "                alist[i]=alist[i+1]\n",
    "                alist[i+1] = temp\n",
    "      \n",
    "    #return alist\n",
    "alist = [54,26,93,17,77,31,44,55,20] \n",
    "BubbleSort(alist)\n",
    "print alist"
   ]
  },
  {
   "cell_type": "code",
   "execution_count": 25,
   "metadata": {
    "collapsed": false
   },
   "outputs": [
    {
     "name": "stdout",
     "output_type": "stream",
     "text": [
      "-----ShortBubble-----\n",
      "passnum:9\n",
      "passnum:8\n",
      "[20, 30, 40, 50, 60, 70, 80, 90, 100, 110]\n",
      "-----Bubble Sort-----\n",
      "passnum:9\n",
      "passnum:8\n",
      "passnum:7\n",
      "passnum:6\n",
      "passnum:5\n",
      "passnum:4\n",
      "passnum:3\n",
      "passnum:2\n",
      "passnum:1\n",
      "[20, 30, 40, 50, 60, 70, 80, 90, 100, 110]\n"
     ]
    }
   ],
   "source": [
    "def shortBubble(alist):\n",
    "    print \"-----ShortBubble-----\"\n",
    "    for passnum in range(len(alist)-1,0,-1):\n",
    "        print (\"passnum:%d\"%passnum)\n",
    "        Sorted = False\n",
    "        for i in range(passnum):\n",
    "            if alist[i]>alist[i+1]:\n",
    "                Sorted = True\n",
    "                temp = alist[i]\n",
    "                alist[i] = alist[i+1]\n",
    "                alist[i+1] = temp\n",
    "        if not Sorted:\n",
    "            return\n",
    "                \n",
    "alist = [20,30,40,90,50,60,70,80,100,110]\n",
    "shortBubble(alist)\n",
    "print(alist)\n",
    "alist = [20,30,40,90,50,60,70,80,100,110]\n",
    "bubbleSort(alist)\n",
    "print(alist)"
   ]
  },
  {
   "cell_type": "code",
   "execution_count": 28,
   "metadata": {
    "collapsed": false
   },
   "outputs": [
    {
     "name": "stdout",
     "output_type": "stream",
     "text": [
      "-----selection sort-----\n",
      "passnum8\n",
      "passnum7\n",
      "passnum6\n",
      "passnum5\n",
      "passnum4\n",
      "passnum3\n",
      "passnum2\n",
      "passnum1\n",
      "[17, 20, 26, 31, 44, 54, 55, 77, 93]\n"
     ]
    }
   ],
   "source": [
    "def selectionSort(alist):\n",
    "    print \"-----selection sort-----\"\n",
    "    for passnum in range(len(alist)-1,0,-1):\n",
    "        print (\"passnum%d\"%passnum)\n",
    "        for i in range(passnum):\n",
    "            if alist[i+1] > alist[i]:\n",
    "                maxidx = i+1\n",
    "                \n",
    "        if maxidx != passnum:\n",
    "            temp = alist[maxidx]\n",
    "            alist[maxidx] = alist[passnum]\n",
    "            alist[passnum] = temp\n",
    "            \n",
    "alist = [17, 20, 26, 31, 44, 54, 55, 77, 93]           \n",
    "selectionSort(alist)\n",
    "print alist"
   ]
  },
  {
   "cell_type": "code",
   "execution_count": 29,
   "metadata": {
    "collapsed": false
   },
   "outputs": [
    {
     "name": "stdout",
     "output_type": "stream",
     "text": [
      "('Splitting ', [54, 26, 93, 17, 77, 31, 44, 55, 20])\n",
      "('lefthalf:', [54, 26, 93, 17])\n",
      "('righthalf', [77, 31, 44, 55, 20])\n",
      "('Splitting ', [54, 26, 93, 17])\n",
      "('lefthalf:', [54, 26])\n",
      "('righthalf', [93, 17])\n",
      "('Splitting ', [54, 26])\n",
      "('lefthalf:', [54])\n",
      "('righthalf', [26])\n",
      "('Splitting ', [54])\n",
      "('Merging ', [54])\n",
      "('Splitting ', [26])\n",
      "('Merging ', [26])\n",
      "('Merging ', [26, 54])\n",
      "('Splitting ', [93, 17])\n",
      "('lefthalf:', [93])\n",
      "('righthalf', [17])\n",
      "('Splitting ', [93])\n",
      "('Merging ', [93])\n",
      "('Splitting ', [17])\n",
      "('Merging ', [17])\n",
      "('Merging ', [17, 93])\n",
      "('Merging ', [17, 26, 54, 93])\n",
      "('Splitting ', [77, 31, 44, 55, 20])\n",
      "('lefthalf:', [77, 31])\n",
      "('righthalf', [44, 55, 20])\n",
      "('Splitting ', [77, 31])\n",
      "('lefthalf:', [77])\n",
      "('righthalf', [31])\n",
      "('Splitting ', [77])\n",
      "('Merging ', [77])\n",
      "('Splitting ', [31])\n",
      "('Merging ', [31])\n",
      "('Merging ', [31, 77])\n",
      "('Splitting ', [44, 55, 20])\n",
      "('lefthalf:', [44])\n",
      "('righthalf', [55, 20])\n",
      "('Splitting ', [44])\n",
      "('Merging ', [44])\n",
      "('Splitting ', [55, 20])\n",
      "('lefthalf:', [55])\n",
      "('righthalf', [20])\n",
      "('Splitting ', [55])\n",
      "('Merging ', [55])\n",
      "('Splitting ', [20])\n",
      "('Merging ', [20])\n",
      "('Merging ', [20, 55])\n",
      "('Merging ', [20, 44, 55])\n",
      "('Merging ', [20, 31, 44, 55, 77])\n",
      "('Merging ', [17, 20, 26, 31, 44, 54, 55, 77, 93])\n",
      "[17, 20, 26, 31, 44, 54, 55, 77, 93]\n"
     ]
    }
   ],
   "source": [
    "def mergeSort(alist):\n",
    "    print(\"Splitting \",alist)\n",
    "    if len(alist)>1:\n",
    "        mid = len(alist)//2\n",
    "        lefthalf = alist[:mid]\n",
    "        righthalf = alist[mid:]\n",
    "        print (\"lefthalf:\", lefthalf)\n",
    "        print (\"righthalf\", righthalf)\n",
    "        \n",
    "        mergeSort(lefthalf)\n",
    "        mergeSort(righthalf)\n",
    "\n",
    "        i=0\n",
    "        j=0\n",
    "        k=0\n",
    "        while i < len(lefthalf) and j < len(righthalf):\n",
    "            if lefthalf[i] < righthalf[j]:\n",
    "                alist[k]=lefthalf[i]\n",
    "                i=i+1\n",
    "            else:\n",
    "                alist[k]=righthalf[j]\n",
    "                j=j+1\n",
    "            k=k+1\n",
    "\n",
    "        while i < len(lefthalf):\n",
    "            alist[k]=lefthalf[i]\n",
    "            i=i+1\n",
    "            k=k+1\n",
    "\n",
    "        while j < len(righthalf):\n",
    "            alist[k]=righthalf[j]\n",
    "            j=j+1\n",
    "            k=k+1\n",
    "    print(\"Merging \",alist)\n",
    "\n",
    "alist = [54,26,93,17,77,31,44,55,20]\n",
    "mergeSort(alist)\n",
    "print(alist)"
   ]
  },
  {
   "cell_type": "code",
   "execution_count": null,
   "metadata": {
    "collapsed": true
   },
   "outputs": [],
   "source": []
  }
 ],
 "metadata": {
  "kernelspec": {
   "display_name": "Python 2",
   "language": "python",
   "name": "python2"
  },
  "language_info": {
   "codemirror_mode": {
    "name": "ipython",
    "version": 2
   },
   "file_extension": ".py",
   "mimetype": "text/x-python",
   "name": "python",
   "nbconvert_exporter": "python",
   "pygments_lexer": "ipython2",
   "version": "2.7.11"
  }
 },
 "nbformat": 4,
 "nbformat_minor": 0
}

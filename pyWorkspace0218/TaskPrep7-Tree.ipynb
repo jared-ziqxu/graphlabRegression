{
 "cells": [
  {
   "cell_type": "code",
   "execution_count": 14,
   "metadata": {
    "collapsed": false
   },
   "outputs": [],
   "source": [
    "class Stack:\n",
    "     def __init__(self):\n",
    "         self.items = []\n",
    "\n",
    "     def isEmpty(self):\n",
    "         return self.items == []\n",
    "\n",
    "     def push(self, item):\n",
    "         self.items.append(item)\n",
    "\n",
    "     def pop(self):\n",
    "         return self.items.pop()\n",
    "\n",
    "     def peek(self):\n",
    "         return self.items[len(self.items)-1]\n",
    "\n",
    "     def size(self):\n",
    "         return len(self.items)\n",
    "    \n",
    "     def show(self):\n",
    "         print self.items\n",
    "\n",
    "\n",
    "class BinaryTree:\n",
    "    def __init__(self,rootObj):\n",
    "        self.key = rootObj\n",
    "        self.leftChild = None\n",
    "        self.rightChild = None\n",
    "\n",
    "    def insertLeft(self,newNode):\n",
    "        if self.leftChild == None:\n",
    "            self.leftChild = BinaryTree(newNode)\n",
    "        else:\n",
    "            t = BinaryTree(newNode)\n",
    "            t.leftChild = self.leftChild\n",
    "            self.leftChild = t\n",
    "\n",
    "    def insertRight(self,newNode):\n",
    "        if self.rightChild == None:\n",
    "            self.rightChild = BinaryTree(newNode)\n",
    "        else:\n",
    "            t = BinaryTree(newNode)\n",
    "            t.rightChild = self.rightChild\n",
    "            self.rightChild = t\n",
    "\n",
    "\n",
    "    def getRightChild(self):\n",
    "        return self.rightChild\n",
    "\n",
    "    def getLeftChild(self):\n",
    "        return self.leftChild\n",
    "\n",
    "    def setRootVal(self,obj):\n",
    "        self.key = obj\n",
    "\n",
    "    def getRootVal(self):\n",
    "        return self.key\n",
    "    \n",
    "    def preorder(self):\n",
    "        print(self.key)\n",
    "        if self.leftChild:\n",
    "            self.leftChild.preorder()\n",
    "        if self.rightChild:\n",
    "            self.rightChild.preorder()\n",
    "\n",
    "\n",
    "#r = BinaryTree('a')\n",
    "#r.setRootVal('aVal')\n",
    "#print(r.getRootVal())\n",
    "#print(r.getLeftChild())\n",
    "#r.insertLeft('b')\n",
    "#print(r.getLeftChild())\n",
    "#print(r.getLeftChild().getRootVal())\n",
    "#r.insertRight('c')\n",
    "#print(r.getRightChild())\n",
    "#print(r.getRightChild().getRootVal())\n",
    "#r.getRightChild().setRootVal('hello')\n",
    "#print(r.getRightChild().getRootVal())"
   ]
  },
  {
   "cell_type": "code",
   "execution_count": 15,
   "metadata": {
    "collapsed": false
   },
   "outputs": [
    {
     "name": "stdout",
     "output_type": "stream",
     "text": [
      "*\n",
      "+\n",
      "10\n",
      "5\n",
      "3\n"
     ]
    }
   ],
   "source": [
    "def buildParseTree(fpexp):\n",
    "    fplist = fpexp.split()\n",
    "    pStack = Stack()\n",
    "    eTree = BinaryTree('')\n",
    "    pStack.push(eTree)\n",
    "    currentTree = eTree\n",
    "    for i in fplist:\n",
    "        if i == '(':\n",
    "            currentTree.insertLeft('')\n",
    "            pStack.push(currentTree)\n",
    "            currentTree = currentTree.getLeftChild()\n",
    "        elif i not in ['+', '-', '*', '/', ')']:\n",
    "            currentTree.setRootVal(int(i))\n",
    "            parent = pStack.pop()\n",
    "            currentTree = parent\n",
    "        elif i in ['+', '-', '*', '/']:\n",
    "            currentTree.setRootVal(i)\n",
    "            currentTree.insertRight('')\n",
    "            pStack.push(currentTree)\n",
    "            currentTree = currentTree.getRightChild()\n",
    "        elif i == ')':\n",
    "            currentTree = pStack.pop()\n",
    "        else:\n",
    "            raise ValueError\n",
    "    return eTree\n",
    "\n",
    "pt = buildParseTree(\"( ( 10 + 5 ) * 3 )\")\n",
    "pt.preorder()\n",
    "#pt = buildParseTree(\"(3 + 5)\")\n",
    "#pt.postorder()  #defined and explained in the next section\n",
    "#import operator\n",
    "#def evaluate(parseTree):\n",
    "#    opers = {'+':operator.add, '-':operator.sub, '*':operator.mul, '/':operator.truediv}\n",
    "\n",
    "#    leftC = parseTree.getLeftChild()\n",
    "#    rightC = parseTree.getRightChild()\n",
    "\n",
    "#    if leftC and rightC:\n",
    "#        fn = opers[parseTree.getRootVal()]\n",
    "#        return fn(evaluate(leftC),evaluate(rightC))\n",
    "#    else:\n",
    "#        return parseTree.getRootVal()\n",
    "#evaluate(pt)"
   ]
  },
  {
   "cell_type": "code",
   "execution_count": 20,
   "metadata": {
    "collapsed": false
   },
   "outputs": [
    {
     "name": "stdout",
     "output_type": "stream",
     "text": [
      "------preorder------\n",
      "*\n",
      "+\n",
      "10\n",
      "5\n",
      "3\n",
      "------postorder------\n",
      "10\n",
      "5\n",
      "+\n",
      "3\n",
      "*\n",
      "------inorder------\n",
      "10\n",
      "+\n",
      "5\n",
      "*\n",
      "3\n",
      "inorder eval print\n"
     ]
    },
    {
     "data": {
      "text/plain": [
       "'(((10)+(5))*(3))'"
      ]
     },
     "execution_count": 20,
     "metadata": {},
     "output_type": "execute_result"
    }
   ],
   "source": [
    "def preorder(tree):\n",
    "    if tree:\n",
    "        print(tree.getRootVal())\n",
    "        preorder(tree.getLeftChild())\n",
    "        preorder(tree.getRightChild())\n",
    "        \n",
    "def postorder(tree):\n",
    "    if tree != None:\n",
    "        postorder(tree.getLeftChild())\n",
    "        postorder(tree.getRightChild())\n",
    "        print(tree.getRootVal())\n",
    "\n",
    "def inorder(tree):\n",
    "  if tree != None:\n",
    "      inorder(tree.getLeftChild())\n",
    "      print(tree.getRootVal())\n",
    "      inorder(tree.getRightChild())\n",
    "\n",
    "def printexp(tree):\n",
    "  sVal = \"\"\n",
    "  if tree:\n",
    "      sVal = '(' + printexp(tree.getLeftChild())\n",
    "      sVal = sVal + str(tree.getRootVal())\n",
    "      sVal = sVal + printexp(tree.getRightChild())+')'\n",
    "  return sVal\n",
    "\n",
    "print \"------preorder------\"\n",
    "preorder(pt)\n",
    "print \"------postorder------\"\n",
    "postorder(pt)\n",
    "print \"------inorder------\"\n",
    "inorder(pt)\n",
    "print \"inorder eval print\"\n",
    "printexp(pt)"
   ]
  },
  {
   "cell_type": "code",
   "execution_count": 18,
   "metadata": {
    "collapsed": false
   },
   "outputs": [
    {
     "data": {
      "text/plain": [
       "45"
      ]
     },
     "execution_count": 18,
     "metadata": {},
     "output_type": "execute_result"
    }
   ],
   "source": [
    "def postordereval(tree):\n",
    "    opers = {'+':operator.add, '-':operator.sub, '*':operator.mul, '/':operator.truediv}\n",
    "    res1 = None\n",
    "    res2 = None\n",
    "    if tree:\n",
    "        res1 = postordereval(tree.getLeftChild())\n",
    "        res2 = postordereval(tree.getRightChild())\n",
    "        if res1 and res2:\n",
    "            return opers[tree.getRootVal()](res1,res2)\n",
    "        else:\n",
    "            return tree.getRootVal()\n",
    "postordereval(pt)"
   ]
  },
  {
   "cell_type": "code",
   "execution_count": null,
   "metadata": {
    "collapsed": true
   },
   "outputs": [],
   "source": []
  }
 ],
 "metadata": {
  "kernelspec": {
   "display_name": "Python 2",
   "language": "python",
   "name": "python2"
  },
  "language_info": {
   "codemirror_mode": {
    "name": "ipython",
    "version": 2
   },
   "file_extension": ".py",
   "mimetype": "text/x-python",
   "name": "python",
   "nbconvert_exporter": "python",
   "pygments_lexer": "ipython2",
   "version": "2.7.11"
  }
 },
 "nbformat": 4,
 "nbformat_minor": 0
}

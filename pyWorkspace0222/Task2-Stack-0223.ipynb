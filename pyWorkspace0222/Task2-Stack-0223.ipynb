{
 "cells": [
  {
   "cell_type": "code",
   "execution_count": 29,
   "metadata": {
    "collapsed": true
   },
   "outputs": [],
   "source": [
    "class Node:\n",
    "    def __init__(self,initdata):\n",
    "        self.data = initdata\n",
    "        self.next = None\n",
    "        self.index = 0\n",
    "        \n",
    "    def getIndex(self):\n",
    "        return self.index\n",
    "\n",
    "    def getData(self):\n",
    "        return self.data\n",
    "    \n",
    "    def getNext(self):\n",
    "        return self.next\n",
    "\n",
    "    def setData(self,newdata):\n",
    "        self.data = newdata\n",
    "\n",
    "    def setNext(self,newnext):\n",
    "        self.next = newnext"
   ]
  },
  {
   "cell_type": "code",
   "execution_count": 124,
   "metadata": {
    "collapsed": true
   },
   "outputs": [],
   "source": [
    "class Stack:\n",
    "\n",
    "    def __init__(self,size=0):\n",
    "        self.head = None\n",
    "        self.size = size\n",
    "        self.pushStep = 0\n",
    "        self.popStep = 0\n",
    "\n",
    "    def isEmpty(self):\n",
    "        return self.head == None\n",
    "    \n",
    "    def push(self,item):\n",
    "        temp = Node(item)\n",
    "        temp.setNext(self.head)\n",
    "        self.head = temp\n",
    "        self.size = self.size + 1\n",
    "        temp.index = self.size\n",
    "        self.pushStep = self.pushStep + 1\n",
    "        \n",
    "    def getPushStep(self):\n",
    "        return self.pushStep\n",
    "        \n",
    "    def getPopStep(self):\n",
    "        return self.popStep\n",
    "    \n",
    "    def resetPushStep(self):\n",
    "        self.pushStep = 0\n",
    "    \n",
    "    def resetPopStep(self):\n",
    "        self.popStep = 0\n",
    "    \n",
    "    def getSize(self):\n",
    "        return self.size\n",
    "\n",
    "    def pop(self,index):\n",
    "        current = self.head\n",
    "        found = False\n",
    "        tmpSize = self.size\n",
    "        while current != None and not found:\n",
    "            if current.getIndex() == index:\n",
    "                found = True\n",
    "                self.head = current.getNext() \n",
    "                current.setNext(None)\n",
    "                self.size = tmpSize - 1\n",
    "            else:\n",
    "                current = current.getNext()\n",
    "                tmpSize = tmpSize - 1\n",
    "                self.popStep = self.popStep + 1\n",
    "\n",
    "        if not found:\n",
    "            print \"no such index in stack\"\n",
    "        \n",
    "    \n",
    "    \n",
    "    def show(self):\n",
    "        current = self.head\n",
    "        \n",
    "        while current != None:\n",
    "            print \"Item:%4d | Index: %4d\" % (current.getData(),current.getIndex())\n",
    "            current = current.getNext()\n",
    "\n",
    "   "
   ]
  },
  {
   "cell_type": "code",
   "execution_count": 125,
   "metadata": {
    "collapsed": true
   },
   "outputs": [],
   "source": [
    "import time\n",
    "def testPush(astack,alist):\n",
    "    \n",
    "    start = time.time()\n",
    "    for i in mylist:\n",
    "        astack.push(i)\n",
    "    end = time.time()\n",
    "    \n",
    "    return end-start\n",
    "\n",
    "def testPop(astack, index):\n",
    "    start = time.time()\n",
    "    astack.pop(index)\n",
    "    end = time.time()\n",
    "    \n",
    "    return end-start"
   ]
  },
  {
   "cell_type": "code",
   "execution_count": null,
   "metadata": {
    "collapsed": true
   },
   "outputs": [],
   "source": [
    "mystack = Stack()\n",
    "mylist = range(10000)\n",
    "\n"
   ]
  },
  {
   "cell_type": "code",
   "execution_count": null,
   "metadata": {
    "collapsed": true
   },
   "outputs": [],
   "source": []
  },
  {
   "cell_type": "code",
   "execution_count": null,
   "metadata": {
    "collapsed": true
   },
   "outputs": [],
   "source": []
  },
  {
   "cell_type": "code",
   "execution_count": 126,
   "metadata": {
    "collapsed": false
   },
   "outputs": [],
   "source": [
    "mystack = Stack()\n",
    "length = 10000\n",
    "mylist = range(0,length)\n"
   ]
  },
  {
   "cell_type": "code",
   "execution_count": 158,
   "metadata": {
    "collapsed": false
   },
   "outputs": [
    {
     "name": "stdout",
     "output_type": "stream",
     "text": [
      "0.0170590877533\n",
      "10000\n"
     ]
    }
   ],
   "source": [
    "durationPush = testPush(mystack, mylist)\n",
    "print durationPush\n",
    "print mystack.getSize()\n"
   ]
  },
  {
   "cell_type": "code",
   "execution_count": 184,
   "metadata": {
    "collapsed": false
   },
   "outputs": [
    {
     "name": "stdout",
     "output_type": "stream",
     "text": [
      "popStep:1000, Time consuming:   0.043765\n",
      "popStep: 500, Time consuming:   0.036144\n",
      "popStep: 333, Time consuming:   0.032645\n",
      "popStep: 250, Time consuming:   0.029033\n",
      "popStep: 200, Time consuming:   0.040769\n",
      "popStep: 166, Time consuming:   0.028810\n",
      "popStep: 142, Time consuming:   0.029342\n",
      "popStep: 125, Time consuming:   0.028935\n",
      "popStep: 111, Time consuming:   0.029023\n",
      "popStep: 100, Time consuming:   0.038550\n",
      "popStep:  90, Time consuming:   0.029735\n",
      "popStep:  83, Time consuming:   0.029309\n",
      "popStep:  76, Time consuming:   0.028021\n",
      "popStep:  71, Time consuming:   0.028800\n",
      "popStep:  66, Time consuming:   0.037870\n",
      "popStep:  62, Time consuming:   0.032145\n",
      "popStep:  58, Time consuming:   0.027641\n",
      "popStep:  55, Time consuming:   0.029270\n",
      "popStep:  52, Time consuming:   0.027552\n",
      "popStep:  50, Time consuming:   0.037237\n",
      "popStep:  47, Time consuming:   0.027580\n",
      "popStep:  45, Time consuming:   0.028650\n",
      "popStep:  43, Time consuming:   0.027415\n",
      "popStep:  41, Time consuming:   0.039952\n",
      "popStep:  40, Time consuming:   0.027643\n",
      "popStep:  38, Time consuming:   0.028606\n",
      "popStep:  37, Time consuming:   0.028407\n",
      "popStep:  35, Time consuming:   0.029075\n",
      "popStep:  34, Time consuming:   0.039961\n",
      "popStep:  33, Time consuming:   0.030261\n",
      "popStep:  32, Time consuming:   0.028869\n",
      "popStep:  31, Time consuming:   0.028784\n",
      "popStep:  30, Time consuming:   0.028642\n",
      "popStep:  29, Time consuming:   0.041092\n",
      "popStep:  28, Time consuming:   0.027990\n",
      "popStep:  27, Time consuming:   0.028361\n",
      "popStep:  27, Time consuming:   0.028202\n",
      "popStep:  26, Time consuming:   0.028579\n",
      "popStep:  25, Time consuming:   0.036863\n",
      "popStep:  25, Time consuming:   0.028892\n",
      "popStep:  24, Time consuming:   0.028870\n",
      "popStep:  23, Time consuming:   0.029959\n",
      "popStep:  23, Time consuming:   0.038621\n",
      "popStep:  22, Time consuming:   0.029142\n",
      "popStep:  22, Time consuming:   0.027629\n",
      "popStep:  21, Time consuming:   0.029071\n",
      "popStep:  21, Time consuming:   0.028393\n",
      "popStep:  20, Time consuming:   0.040318\n",
      "popStep:  20, Time consuming:   0.027813\n",
      "popStep:  20, Time consuming:   0.029146\n",
      "popStep:  19, Time consuming:   0.028272\n",
      "popStep:  19, Time consuming:   0.029382\n",
      "popStep:  18, Time consuming:   0.037136\n",
      "popStep:  18, Time consuming:   0.029893\n",
      "popStep:  18, Time consuming:   0.027730\n",
      "popStep:  17, Time consuming:   0.029475\n",
      "popStep:  17, Time consuming:   0.028756\n",
      "popStep:  17, Time consuming:   0.037069\n",
      "popStep:  16, Time consuming:   0.030446\n",
      "popStep:  16, Time consuming:   0.029545\n",
      "popStep:  16, Time consuming:   0.031288\n",
      "popStep:  16, Time consuming:   0.041589\n",
      "popStep:  15, Time consuming:   0.032731\n",
      "popStep:  15, Time consuming:   0.031172\n",
      "popStep:  15, Time consuming:   0.031490\n",
      "popStep:  15, Time consuming:   0.037363\n",
      "popStep:  14, Time consuming:   0.038964\n",
      "popStep:  14, Time consuming:   0.029824\n",
      "popStep:  14, Time consuming:   0.030020\n",
      "popStep:  14, Time consuming:   0.031625\n",
      "popStep:  14, Time consuming:   0.030394\n",
      "popStep:  13, Time consuming:   0.039844\n",
      "popStep:  13, Time consuming:   0.029170\n",
      "popStep:  13, Time consuming:   0.029003\n",
      "popStep:  13, Time consuming:   0.029914\n",
      "popStep:  13, Time consuming:   0.030103\n",
      "popStep:  12, Time consuming:   0.038086\n",
      "popStep:  12, Time consuming:   0.029543\n",
      "popStep:  12, Time consuming:   0.033080\n",
      "popStep:  12, Time consuming:   0.028803\n",
      "popStep:  12, Time consuming:   0.042651\n",
      "popStep:  12, Time consuming:   0.036904\n",
      "popStep:  12, Time consuming:   0.029380\n",
      "popStep:  11, Time consuming:   0.028746\n",
      "popStep:  11, Time consuming:   0.027802\n",
      "popStep:  11, Time consuming:   0.037697\n",
      "popStep:  11, Time consuming:   0.030452\n",
      "popStep:  11, Time consuming:   0.028023\n",
      "popStep:  11, Time consuming:   0.027622\n",
      "popStep:  11, Time consuming:   0.028534\n",
      "popStep:  10, Time consuming:   0.038927\n",
      "popStep:  10, Time consuming:   0.029974\n",
      "popStep:  10, Time consuming:   0.031758\n",
      "popStep:  10, Time consuming:   0.031599\n",
      "popStep:  10, Time consuming:   0.028661\n",
      "popStep:  10, Time consuming:   0.041783\n",
      "popStep:  10, Time consuming:   0.029166\n",
      "popStep:  10, Time consuming:   0.028855\n",
      "popStep:  10, Time consuming:   0.027937\n"
     ]
    }
   ],
   "source": [
    "def arbitraryMix(length,step):\n",
    "    \n",
    "    mystack = Stack()\n",
    "    mylist = range(0,length)\n",
    "    durationPush = testPush(mystack, mylist)\n",
    "    durationPop = {}\n",
    "    for i in range(length-step,0,-step):\n",
    "        durationPop[i] = testPop(mystack,i)\n",
    "    durationPop[1] = testPop(mystack,1)\n",
    "    popSum= 0\n",
    "    for j in durationPop:\n",
    "\n",
    "        popSum = popSum + durationPop[j]\n",
    "     \n",
    "    \n",
    "    return popSum+durationPush\n",
    "\n",
    "length = 10000\n",
    "nstepList = []\n",
    "timeConsumeList = []\n",
    "for i in range(10,1000,10):\n",
    "    nstep = length/i\n",
    "    duration = arbitraryMix(10000,i)\n",
    "    nstepList.append(nstep)\n",
    "    timeConsumeList.append(duration)\n",
    "    print \"popStep:%4d, Time consuming: %10f\" % (nstep, duration)"
   ]
  },
  {
   "cell_type": "code",
   "execution_count": 185,
   "metadata": {
    "collapsed": false
   },
   "outputs": [
    {
     "name": "stderr",
     "output_type": "stream",
     "text": [
      "A newer version of GraphLab Create (v1.8.2) is available! Your current version is v1.7.1.\n",
      "\n",
      "You can use pip to upgrade the graphlab-create package. For more information see https://dato.com/products/create/upgrade.\n",
      "[INFO] \u001b[1;32m1456220086 : INFO:     (initialize_globals_from_environment:282): Setting configuration variable GRAPHLAB_FILEIO_ALTERNATIVE_SSL_CERT_FILE to /Users/ziqxu/anaconda/envs/dato-env/lib/python2.7/site-packages/certifi/cacert.pem\n",
      "\u001b[0m\u001b[1;32m1456220086 : INFO:     (initialize_globals_from_environment:282): Setting configuration variable GRAPHLAB_FILEIO_ALTERNATIVE_SSL_CERT_DIR to \n",
      "\u001b[0mThis non-commercial license of GraphLab Create is assigned to jared.ziqxu@gmail.com and will expire on February 03, 2017. For commercial licensing options, visit https://dato.com/buy/.\n",
      "\n",
      "[INFO] Start server at: ipc:///tmp/graphlab_server-23605 - Server binary: /Users/ziqxu/anaconda/envs/dato-env/lib/python2.7/site-packages/graphlab/unity_server - Server log: /tmp/graphlab_server_1456220086.log\n",
      "[INFO] GraphLab Server Version: 1.7.1\n"
     ]
    },
    {
     "name": "stdout",
     "output_type": "stream",
     "text": [
      "+-----------+-----------------+\n",
      "| Pop Steps | Time Complexity |\n",
      "+-----------+-----------------+\n",
      "|    1000   | 0.0437648296356 |\n",
      "|    500    | 0.0361440181732 |\n",
      "|    333    | 0.0326452255249 |\n",
      "|    250    | 0.0290334224701 |\n",
      "|    200    | 0.0407688617706 |\n",
      "|    166    | 0.0288100242615 |\n",
      "|    142    | 0.0293416976929 |\n",
      "|    125    | 0.0289347171783 |\n",
      "|    111    | 0.0290234088898 |\n",
      "|    100    | 0.0385503768921 |\n",
      "|     90    | 0.0297350883484 |\n",
      "|     83    |  0.029308795929 |\n",
      "|     76    | 0.0280208587646 |\n",
      "|     71    |  0.028799533844 |\n",
      "|     66    | 0.0378699302673 |\n",
      "|     62    | 0.0321445465088 |\n",
      "|     58    | 0.0276412963867 |\n",
      "|     55    | 0.0292699337006 |\n",
      "|     52    |  0.027551651001 |\n",
      "|     50    |  0.037237405777 |\n",
      "|     47    | 0.0275795459747 |\n",
      "|     45    | 0.0286498069763 |\n",
      "|     43    |  0.027414560318 |\n",
      "|     41    | 0.0399520397186 |\n",
      "|     40    | 0.0276434421539 |\n",
      "|     38    | 0.0286059379578 |\n",
      "|     37    | 0.0284070968628 |\n",
      "|     35    | 0.0290749073029 |\n",
      "|     34    | 0.0399613380432 |\n",
      "|     33    | 0.0302610397339 |\n",
      "|     32    | 0.0288689136505 |\n",
      "|     31    | 0.0287840366364 |\n",
      "|     30    | 0.0286421775818 |\n",
      "|     29    | 0.0410919189453 |\n",
      "|     28    | 0.0279901027679 |\n",
      "|     27    | 0.0283613204956 |\n",
      "|     27    | 0.0282020568848 |\n",
      "|     26    | 0.0285787582397 |\n",
      "|     25    | 0.0368633270264 |\n",
      "|     25    | 0.0288920402527 |\n",
      "|     24    | 0.0288698673248 |\n",
      "|     23    | 0.0299594402313 |\n",
      "|     23    | 0.0386207103729 |\n",
      "|     22    | 0.0291419029236 |\n",
      "|     22    | 0.0276288986206 |\n",
      "|     21    |  0.029070854187 |\n",
      "|     21    | 0.0283932685852 |\n",
      "|     20    | 0.0403184890747 |\n",
      "|     20    | 0.0278127193451 |\n",
      "|     20    | 0.0291457176208 |\n",
      "+-----------+-----------------+\n",
      "[99 rows x 2 columns]\n",
      "\n"
     ]
    }
   ],
   "source": [
    "import graphlab\n",
    "from graphlab import SFrame\n",
    "treeSF = SFrame({'Pop Steps':nstepList,'Time Complexity':timeConsumeList})\n",
    "treeSF.print_rows(num_rows=50)"
   ]
  },
  {
   "cell_type": "code",
   "execution_count": 186,
   "metadata": {
    "collapsed": false
   },
   "outputs": [
    {
     "data": {
      "application/javascript": [
       "$(\"head\").append($(\"<link/>\").attr({\n",
       "  rel:  \"stylesheet\",\n",
       "  type: \"text/css\",\n",
       "  href: \"//cdnjs.cloudflare.com/ajax/libs/font-awesome/4.1.0/css/font-awesome.min.css\"\n",
       "}));\n",
       "$(\"head\").append($(\"<link/>\").attr({\n",
       "  rel:  \"stylesheet\",\n",
       "  type: \"text/css\",\n",
       "  href: \"//dato.com/files/canvas/1.7.1/css/canvas.css\"\n",
       "}));\n",
       "\n",
       "            (function(){\n",
       "\n",
       "                var e = null;\n",
       "                if (typeof element == 'undefined') {\n",
       "                    var scripts = document.getElementsByTagName('script');\n",
       "                    var thisScriptTag = scripts[scripts.length-1];\n",
       "                    var parentDiv = thisScriptTag.parentNode;\n",
       "                    e = document.createElement('div');\n",
       "                    parentDiv.appendChild(e);\n",
       "                } else {\n",
       "                    e = element[0];\n",
       "                }\n",
       "\n",
       "                if (typeof requirejs !== 'undefined') {\n",
       "                    // disable load timeout; ipython_app.js is large and can take a while to load.\n",
       "                    requirejs.config({waitSeconds: 0});\n",
       "                }\n",
       "\n",
       "                require(['//dato.com/files/canvas/1.7.1/js/ipython_app.js'], function(IPythonApp){\n",
       "                    var app = new IPythonApp();\n",
       "                    app.attachView('sframe','Plots', {\"selected_variable\": {\"name\": [\"treeSF\"], \"descriptives\": {\"rows\": 99, \"columns\": 2}, \"view_component\": \"Plots\", \"view_file\": \"sframe\", \"view_params\": {\"y\": \"Time Complexity\", \"x\": \"Pop Steps\", \"columns\": [\"Pop Steps\", \"Time Complexity\"], \"view\": \"Scatter Plot\"}, \"view_components\": [\"Summary\", \"Table\", \"Bar Chart\", \"BoxWhisker Plot\", \"Line Chart\", \"Scatter Plot\", \"Heat Map\", \"Plots\"], \"type\": \"SFrame\", \"columns\": [{\"dtype\": \"int\", \"name\": \"Pop Steps\"}, {\"dtype\": \"float\", \"name\": \"Time Complexity\"}], \"column_identifiers\": [\"Time Complexity\", \"Pop Steps\"]}, \"complete\": 1, \"ipython\": true, \"progress\": 1.0, \"data\": [[1000, 0.04376482963562012], [500, 0.03614401817321777], [333, 0.032645225524902344], [250, 0.029033422470092773], [200, 0.04076886177062988], [166, 0.02881002426147461], [142, 0.029341697692871094], [125, 0.028934717178344727], [111, 0.029023408889770508], [100, 0.038550376892089844], [90, 0.029735088348388672], [83, 0.029308795928955078], [76, 0.028020858764648438], [71, 0.02879953384399414], [66, 0.037869930267333984], [62, 0.03214454650878906], [58, 0.02764129638671875], [55, 0.029269933700561523], [52, 0.027551651000976562], [50, 0.03723740577697754], [47, 0.027579545974731445], [45, 0.02864980697631836], [43, 0.027414560317993164], [41, 0.03995203971862793], [40, 0.027643442153930664], [38, 0.028605937957763672], [37, 0.02840709686279297], [35, 0.029074907302856445], [34, 0.03996133804321289], [33, 0.03026103973388672], [32, 0.028868913650512695], [31, 0.02878403663635254], [30, 0.02864217758178711], [29, 0.0410919189453125], [28, 0.027990102767944336], [27, 0.02836132049560547], [27, 0.028202056884765625], [26, 0.028578758239746094], [25, 0.03686332702636719], [25, 0.028892040252685547], [24, 0.0288698673248291], [23, 0.029959440231323242], [23, 0.038620710372924805], [22, 0.029141902923583984], [22, 0.02762889862060547], [21, 0.02907085418701172], [21, 0.028393268585205078], [20, 0.04031848907470703], [20, 0.027812719345092773], [20, 0.02914571762084961], [19, 0.028271913528442383], [19, 0.029381513595581055], [18, 0.037136077880859375], [18, 0.02989339828491211], [18, 0.027730226516723633], [17, 0.02947521209716797], [17, 0.028755903244018555], [17, 0.037069082260131836], [16, 0.03044605255126953], [16, 0.029544591903686523], [16, 0.03128767013549805], [16, 0.04158902168273926], [15, 0.032731056213378906], [15, 0.031171798706054688], [15, 0.031490325927734375], [15, 0.03736281394958496], [14, 0.03896355628967285], [14, 0.029824018478393555], [14, 0.030019521713256836], [14, 0.03162503242492676], [14, 0.030393600463867188], [13, 0.03984379768371582], [13, 0.02917003631591797], [13, 0.029003381729125977], [13, 0.029914140701293945], [13, 0.030103206634521484], [12, 0.0380861759185791], [12, 0.029542922973632812], [12, 0.033080101013183594], [12, 0.028803110122680664], [12, 0.04265093803405762], [12, 0.03690385818481445], [12, 0.029380321502685547], [11, 0.02874588966369629], [11, 0.0278017520904541], [11, 0.03769659996032715], [11, 0.030452251434326172], [11, 0.02802300453186035], [11, 0.027621746063232422], [11, 0.028533935546875], [10, 0.03892683982849121], [10, 0.029973745346069336], [10, 0.03175783157348633], [10, 0.03159928321838379], [10, 0.02866053581237793], [10, 0.04178333282470703], [10, 0.029166221618652344], [10, 0.0288546085357666], [10, 0.027936935424804688]], \"columns\": [{\"dtype\": \"int\", \"name\": \"Pop Steps\"}, {\"dtype\": \"float\", \"name\": \"Time Complexity\"}]}, e);\n",
       "                });\n",
       "            })();\n",
       "        "
      ]
     },
     "metadata": {},
     "output_type": "display_data"
    }
   ],
   "source": [
    "graphlab.canvas.set_target('ipynb')\n",
    "treeSF.show(view=\"Scatter Plot\",x=\"Pop Steps\", y=\"Time Complexity\")"
   ]
  },
  {
   "cell_type": "code",
   "execution_count": 159,
   "metadata": {
    "collapsed": false
   },
   "outputs": [
    {
     "name": "stdout",
     "output_type": "stream",
     "text": [
      "j:8000,   0.001740\n",
      "j:4000,   0.002016\n",
      "j:2000,   0.001540\n",
      "j:   1,   0.001749\n",
      "j:9000,   0.001922\n",
      "j:6000,   0.001570\n",
      "j:5000,   0.001715\n",
      "j:3000,   0.001558\n",
      "j:1000,   0.001661\n",
      "j:7000,   0.001750\n",
      "0.016610622406\n"
     ]
    }
   ],
   "source": [
    "durationPop = {}\n",
    "for i in range(9000,0,-1000):\n",
    "    #print i\n",
    "    durationPop[i] = testPop(mystack,i)\n",
    "\n",
    "durationPop[1] = testPop(mystack,1)\n",
    "durationSum = 0\n",
    "for j in durationPop:\n",
    "    print \"j:%4d, %10f\" % (j,durationPop[j])\n",
    "    durationSum = durationSum + durationPop[i]\n",
    "\n",
    "print durationSum"
   ]
  },
  {
   "cell_type": "code",
   "execution_count": null,
   "metadata": {
    "collapsed": true
   },
   "outputs": [],
   "source": []
  },
  {
   "cell_type": "code",
   "execution_count": 128,
   "metadata": {
    "collapsed": false
   },
   "outputs": [
    {
     "name": "stdout",
     "output_type": "stream",
     "text": [
      "10000\n"
     ]
    }
   ],
   "source": [
    "print mystack.getPushStep()"
   ]
  },
  {
   "cell_type": "code",
   "execution_count": 129,
   "metadata": {
    "collapsed": false
   },
   "outputs": [
    {
     "name": "stdout",
     "output_type": "stream",
     "text": [
      "0.01939702034\n"
     ]
    }
   ],
   "source": [
    "durationPop = testPop(mystack,1)\n",
    "print durationPop"
   ]
  },
  {
   "cell_type": "code",
   "execution_count": 130,
   "metadata": {
    "collapsed": false
   },
   "outputs": [
    {
     "name": "stdout",
     "output_type": "stream",
     "text": [
      "0\n"
     ]
    }
   ],
   "source": [
    "print mystack.getSize()"
   ]
  },
  {
   "cell_type": "code",
   "execution_count": 131,
   "metadata": {
    "collapsed": false
   },
   "outputs": [
    {
     "name": "stdout",
     "output_type": "stream",
     "text": [
      "9999\n"
     ]
    }
   ],
   "source": [
    "print mystack.getPopStep()"
   ]
  },
  {
   "cell_type": "code",
   "execution_count": 98,
   "metadata": {
    "collapsed": false
   },
   "outputs": [
    {
     "name": "stdout",
     "output_type": "stream",
     "text": [
      "push 50 items into a stack, required time is 0.000287056\n"
     ]
    }
   ],
   "source": [
    "import random\n",
    "import timeit\n",
    "import time\n",
    "\n",
    "\n",
    "mystack=Stack()\n",
    "length = 50\n",
    "mylist = [random.randint(0,length) for r in xrange(length)]\n",
    "\n",
    "start = time.time()\n",
    "for i in mylist:\n",
    "    mystack.push(i)\n",
    "end = time.time()\n",
    "    \n",
    "print ( \"push %d items into a stack, required time is %10.9f\" % (mystack.getSize(),end-start))"
   ]
  },
  {
   "cell_type": "code",
   "execution_count": 95,
   "metadata": {
    "collapsed": false
   },
   "outputs": [
    {
     "name": "stdout",
     "output_type": "stream",
     "text": [
      "Item:  15 | Index:   50\n",
      "Item:   3 | Index:   49\n",
      "Item:  13 | Index:   48\n",
      "Item:  45 | Index:   47\n",
      "Item:  11 | Index:   46\n",
      "Item:  38 | Index:   45\n",
      "Item:  35 | Index:   44\n",
      "Item:  11 | Index:   43\n",
      "Item:  45 | Index:   42\n",
      "Item:   4 | Index:   41\n",
      "Item:  17 | Index:   40\n",
      "Item:  38 | Index:   39\n",
      "Item:  50 | Index:   38\n",
      "Item:  18 | Index:   37\n",
      "Item:   7 | Index:   36\n",
      "Item:  47 | Index:   35\n",
      "Item:  47 | Index:   34\n",
      "Item:  28 | Index:   33\n",
      "Item:  16 | Index:   32\n",
      "Item:   6 | Index:   31\n",
      "Item:   1 | Index:   30\n",
      "Item:   5 | Index:   29\n",
      "Item:  13 | Index:   28\n",
      "Item:  11 | Index:   27\n",
      "Item:  19 | Index:   26\n",
      "Item:  42 | Index:   25\n",
      "Item:  49 | Index:   24\n",
      "Item:   3 | Index:   23\n",
      "Item:  13 | Index:   22\n",
      "Item:   3 | Index:   21\n",
      "Item:  32 | Index:   20\n",
      "Item:  40 | Index:   19\n",
      "Item:  47 | Index:   18\n",
      "Item:  20 | Index:   17\n",
      "Item:  37 | Index:   16\n",
      "Item:  49 | Index:   15\n",
      "Item:   9 | Index:   14\n",
      "Item:  47 | Index:   13\n",
      "Item:  50 | Index:   12\n",
      "Item:  24 | Index:   11\n",
      "Item:  12 | Index:   10\n",
      "Item:   0 | Index:    9\n",
      "Item:  34 | Index:    8\n",
      "Item:  15 | Index:    7\n",
      "Item:   9 | Index:    6\n",
      "Item:  18 | Index:    5\n",
      "Item:  38 | Index:    4\n",
      "Item:  24 | Index:    3\n",
      "Item:   4 | Index:    2\n",
      "Item:   5 | Index:    1\n"
     ]
    }
   ],
   "source": [
    "mystack.show()"
   ]
  },
  {
   "cell_type": "code",
   "execution_count": 97,
   "metadata": {
    "collapsed": false
   },
   "outputs": [
    {
     "name": "stdout",
     "output_type": "stream",
     "text": [
      "no such index in stack\n",
      "Item:  42 | Index:   25\n",
      "Item:  49 | Index:   24\n",
      "Item:   3 | Index:   23\n",
      "Item:  13 | Index:   22\n",
      "Item:   3 | Index:   21\n",
      "Item:  32 | Index:   20\n",
      "Item:  40 | Index:   19\n",
      "Item:  47 | Index:   18\n",
      "Item:  20 | Index:   17\n",
      "Item:  37 | Index:   16\n",
      "Item:  49 | Index:   15\n",
      "Item:   9 | Index:   14\n",
      "Item:  47 | Index:   13\n",
      "Item:  50 | Index:   12\n",
      "Item:  24 | Index:   11\n",
      "Item:  12 | Index:   10\n",
      "Item:   0 | Index:    9\n",
      "Item:  34 | Index:    8\n",
      "Item:  15 | Index:    7\n",
      "Item:   9 | Index:    6\n",
      "Item:  18 | Index:    5\n",
      "Item:  38 | Index:    4\n",
      "Item:  24 | Index:    3\n",
      "Item:   4 | Index:    2\n",
      "Item:   5 | Index:    1\n"
     ]
    }
   ],
   "source": [
    "mystack.pop(26)\n",
    "mystack.show()"
   ]
  },
  {
   "cell_type": "code",
   "execution_count": 83,
   "metadata": {
    "collapsed": false
   },
   "outputs": [
    {
     "name": "stdout",
     "output_type": "stream",
     "text": [
      "no such index in stack\n",
      "Item: 19 , Index: 15\n",
      "Item: 18 , Index: 14\n",
      "Item: 17 , Index: 13\n",
      "Item: 16 , Index: 12\n",
      "Item: 15 , Index: 11\n",
      "Item: 14 , Index: 10\n",
      "Item: 13 , Index: 9\n",
      "Item: 12 , Index: 8\n",
      "Item: 11 , Index: 7\n",
      "Item: 10 , Index: 6\n",
      "Item: 9 , Index: 5\n",
      "Item: 8 , Index: 4\n",
      "Item: 7 , Index: 3\n",
      "Item: 6 , Index: 2\n",
      "Item: 5 , Index: 1\n"
     ]
    },
    {
     "data": {
      "text/plain": [
       "15"
      ]
     },
     "execution_count": 83,
     "metadata": {},
     "output_type": "execute_result"
    }
   ],
   "source": [
    "s1 = Stack()\n",
    "\n",
    "for i in range(5,20):\n",
    "    s1.push(i)\n",
    "\n",
    "\n",
    "s1.pop(120)\n",
    "s1.show()\n",
    "s1.getSize()"
   ]
  },
  {
   "cell_type": "code",
   "execution_count": null,
   "metadata": {
    "collapsed": true
   },
   "outputs": [],
   "source": []
  },
  {
   "cell_type": "code",
   "execution_count": null,
   "metadata": {
    "collapsed": true
   },
   "outputs": [],
   "source": []
  },
  {
   "cell_type": "code",
   "execution_count": 81,
   "metadata": {
    "collapsed": false
   },
   "outputs": [
    {
     "data": {
      "text/plain": [
       "9"
      ]
     },
     "execution_count": 81,
     "metadata": {},
     "output_type": "execute_result"
    }
   ],
   "source": [
    "s1.getSize()"
   ]
  },
  {
   "cell_type": "code",
   "execution_count": 70,
   "metadata": {
    "collapsed": false
   },
   "outputs": [
    {
     "name": "stdout",
     "output_type": "stream",
     "text": [
      "Item: 9 , Index: 5\n",
      "Item: 8 , Index: 4\n",
      "Item: 7 , Index: 3\n",
      "Item: 6 , Index: 2\n",
      "Item: 5 , Index: 1\n"
     ]
    }
   ],
   "source": [
    "s1.pop(6)\n",
    "s1.show()"
   ]
  },
  {
   "cell_type": "code",
   "execution_count": 71,
   "metadata": {
    "collapsed": false
   },
   "outputs": [
    {
     "data": {
      "text/plain": [
       "1"
      ]
     },
     "execution_count": 71,
     "metadata": {},
     "output_type": "execute_result"
    }
   ],
   "source": [
    "s1.getSize()"
   ]
  },
  {
   "cell_type": "code",
   "execution_count": null,
   "metadata": {
    "collapsed": true
   },
   "outputs": [],
   "source": []
  }
 ],
 "metadata": {
  "kernelspec": {
   "display_name": "Python 2",
   "language": "python",
   "name": "python2"
  },
  "language_info": {
   "codemirror_mode": {
    "name": "ipython",
    "version": 2
   },
   "file_extension": ".py",
   "mimetype": "text/x-python",
   "name": "python",
   "nbconvert_exporter": "python",
   "pygments_lexer": "ipython2",
   "version": "2.7.11"
  }
 },
 "nbformat": 4,
 "nbformat_minor": 0
}
